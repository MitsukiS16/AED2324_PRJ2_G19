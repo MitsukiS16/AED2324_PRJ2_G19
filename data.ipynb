{
 "cells": [
  {
   "cell_type": "code",
   "execution_count": 8,
   "metadata": {},
   "outputs": [],
   "source": [
    "import pandas as pd\n",
    "\n",
    "\n",
    "flights_path = '/home/eduardo/Documents/Projetos/AED2324_PRJ2_G19/dataset/flights.csv'\n",
    "airports_path = '/home/eduardo/Documents/Projetos/AED2324_PRJ2_G19/dataset/airports.csv'\n",
    "df_flights = pd.read_csv(flights_path)\n",
    "df_airports = pd.read_csv(airports_path)"
   ]
  },
  {
   "cell_type": "code",
   "execution_count": 30,
   "metadata": {},
   "outputs": [
    {
     "name": "stdout",
     "output_type": "stream",
     "text": [
      "  Source Target Country\n",
      "0    YBC    YQB  Canada\n",
      "1    YBC    YUL  Canada\n",
      "2    YBC    YYY  Canada\n",
      "3    YBC    YYY  Canada\n",
      "Number of distinct airports target: 1\n"
     ]
    }
   ],
   "source": [
    "df_filter = df_flights[df_flights['Source'] == 'YBC']\n",
    "\n",
    "df_merged = pd.merge(df_filter, df_airports[['Code','Country']], left_on='Target', right_on='Code', how='left')\n",
    "df_merged = df_merged[['Source','Target','Country']]\n",
    "\n",
    "print(df_merged.head())\n",
    "\n",
    "qtd_distinct = df_merged.nunique().iloc[2] # Country column\n",
    "\n",
    "print(\"Number of distinct airports target:\", qtd_distinct)"
   ]
  },
  {
   "cell_type": "code",
   "execution_count": null,
   "metadata": {},
   "outputs": [],
   "source": []
  }
 ],
 "metadata": {
  "kernelspec": {
   "display_name": "Python 3",
   "language": "python",
   "name": "python3"
  },
  "language_info": {
   "codemirror_mode": {
    "name": "ipython",
    "version": 3
   },
   "file_extension": ".py",
   "mimetype": "text/x-python",
   "name": "python",
   "nbconvert_exporter": "python",
   "pygments_lexer": "ipython3",
   "version": "3.10.12"
  }
 },
 "nbformat": 4,
 "nbformat_minor": 2
}
